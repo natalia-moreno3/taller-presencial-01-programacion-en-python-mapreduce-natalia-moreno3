{
 "cells": [
  {
   "cell_type": "code",
   "execution_count": 13,
   "metadata": {},
   "outputs": [],
   "source": [
    "import glob\n",
    "import fileinput\n",
    "import os.path"
   ]
  },
  {
   "cell_type": "code",
   "execution_count": 3,
   "metadata": {},
   "outputs": [],
   "source": [
    "def load_input(input_directory):\n",
    "\n",
    "    secuence = []\n",
    "    file_names = glob.glob(input_directory + \"/*\")\n",
    "    with fileinput.input(files=file_names) as f:\n",
    "        for line in f:\n",
    "            secuence.append(\n",
    "                (fileinput.filename(), line)\n",
    "            )\n",
    "    \n",
    "    return secuence"
   ]
  },
  {
   "cell_type": "code",
   "execution_count": 4,
   "metadata": {},
   "outputs": [],
   "source": [
    "def mapper(sequence):\n",
    "\n",
    "    new_sequence = []\n",
    "    for _, text in sequence:\n",
    "        words = text.split()\n",
    "        for word in words:\n",
    "            new_sequence.append((word, 1))\n",
    "\n",
    "    return new_sequence"
   ]
  },
  {
   "cell_type": "code",
   "execution_count": 5,
   "metadata": {},
   "outputs": [],
   "source": [
    "def shuffle_and_sort(sequence):\n",
    "    sorted_sequence = sorted(sequence, key=lambda x: x[0])\n",
    "    return sorted_sequence"
   ]
  },
  {
   "cell_type": "code",
   "execution_count": 11,
   "metadata": {},
   "outputs": [],
   "source": [
    "def reducer(sequence):\n",
    "    diccionario = {}\n",
    "    for key, value in sequence:\n",
    "        diccionario[key] = diccionario.get(key, 0) + value\n",
    "    new_sequence = []\n",
    "    for key, value in diccionario.items():\n",
    "        tupla = (key, value)\n",
    "        new_sequence.append(tupla)\n",
    "\n",
    "    return new_sequence\n"
   ]
  },
  {
   "cell_type": "code",
   "execution_count": 14,
   "metadata": {},
   "outputs": [],
   "source": [
    "def create_ouptput_directory(output_directory):\n",
    "    if os.path.exists(output_directory):\n",
    "        raise FileExistsError(f\"The directory '{output_directory}' already exist\")\n",
    "    os.makedirs(output_directory)"
   ]
  },
  {
   "cell_type": "code",
   "execution_count": 15,
   "metadata": {},
   "outputs": [],
   "source": [
    "def save_output(output_directory, sequence):\n",
    "    with open(output_directory + \"/part-00000\", \"w\") as file:\n",
    "        for key, value in sequence:\n",
    "            file.write(f\"{key}\\t{value}\\n\")\n"
   ]
  },
  {
   "cell_type": "code",
   "execution_count": 17,
   "metadata": {},
   "outputs": [],
   "source": [
    "def create_marker(output_directory):\n",
    "    with open(output_directory + \"/_SUCCESS\", \"w\") as file:\n",
    "        file.write(\"\")"
   ]
  },
  {
   "cell_type": "code",
   "execution_count": null,
   "metadata": {},
   "outputs": [],
   "source": [
    "def job(input_directory, output_directory):\n",
    "    sequence = load_input(input_directory)\n",
    "    sequence = mapper(sequence)\n",
    "    sequence = shuffle_and_sort(sequence)\n",
    "    sequence = reducer(sequence)\n",
    "    create_ouptput_directory(output_directory)\n",
    "    save_output(output_directory, sequence)\n",
    "    create_marker(output_directory)"
   ]
  }
 ],
 "metadata": {
  "kernelspec": {
   "display_name": ".venv",
   "language": "python",
   "name": "python3"
  },
  "language_info": {
   "codemirror_mode": {
    "name": "ipython",
    "version": 3
   },
   "file_extension": ".py",
   "mimetype": "text/x-python",
   "name": "python",
   "nbconvert_exporter": "python",
   "pygments_lexer": "ipython3",
   "version": "3.10.11"
  }
 },
 "nbformat": 4,
 "nbformat_minor": 2
}
